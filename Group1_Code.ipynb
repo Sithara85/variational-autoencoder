{
 "cells": [
  {
   "cell_type": "code",
   "execution_count": 1,
   "metadata": {},
   "outputs": [
    {
     "name": "stderr",
     "output_type": "stream",
     "text": [
      "Using TensorFlow backend.\n"
     ]
    }
   ],
   "source": [
    "import numpy as np\n",
    "import pandas as pd\n",
    "import matplotlib.pyplot as plt\n",
    "from imblearn.over_sampling import SMOTE\n",
    "from keras.models import Sequential, Model\n",
    "from keras.layers import Dense, Activation, Input, Lambda, Layer\n",
    "from keras.regularizers import l2\n",
    "from keras.optimizers import Adam\n",
    "from keras.objectives import binary_crossentropy\n",
    "from keras import objectives\n",
    "from keras.losses import mse, binary_crossentropy\n",
    "from keras import backend as K\n",
    "from tensorflow.keras.backend import clear_session\n",
    "from sklearn.model_selection import train_test_split\n",
    "from sklearn import metrics\n",
    "from sklearn.metrics import roc_curve, auc\n",
    "from sklearn import preprocessing\n",
    "np.random.seed(123)"
   ]
  },
  {
   "cell_type": "markdown",
   "metadata": {},
   "source": [
    "# Data"
   ]
  },
  {
   "cell_type": "code",
   "execution_count": 2,
   "metadata": {},
   "outputs": [],
   "source": [
    "creditdata = pd.read_csv(\"https://raw.githubusercontent.com/gablum/datasets/master/creditdata.csv\")\n",
    "creditdata = creditdata.drop('Unnamed: 0', axis=1)\n",
    "creditdata = creditdata.dropna(how='any')"
   ]
  },
  {
   "cell_type": "code",
   "execution_count": 3,
   "metadata": {
    "scrolled": true
   },
   "outputs": [
    {
     "name": "stdout",
     "output_type": "stream",
     "text": [
      "SeriousDlqin2yrs\n",
      "0    111912\n",
      "1      8357\n",
      "dtype: int64\n"
     ]
    }
   ],
   "source": [
    "print(creditdata.groupby('SeriousDlqin2yrs').size())"
   ]
  },
  {
   "cell_type": "code",
   "execution_count": 4,
   "metadata": {},
   "outputs": [
    {
     "name": "stderr",
     "output_type": "stream",
     "text": [
      "C:\\Users\\Gabriel\\Anaconda3\\envs\\deeplearning\\lib\\site-packages\\sklearn\\preprocessing\\data.py:617: DataConversionWarning: Data with input dtype int64, float64 were all converted to float64 by StandardScaler.\n",
      "  return self.partial_fit(X, y)\n",
      "C:\\Users\\Gabriel\\Anaconda3\\envs\\deeplearning\\lib\\site-packages\\sklearn\\base.py:462: DataConversionWarning: Data with input dtype int64, float64 were all converted to float64 by StandardScaler.\n",
      "  return self.fit(X, **fit_params).transform(X)\n"
     ]
    }
   ],
   "source": [
    "names = creditdata.columns\n",
    "scaler = preprocessing.StandardScaler()\n",
    "creditdata = scaler.fit_transform(creditdata)\n",
    "creditdata = pd.DataFrame(creditdata, columns=names)"
   ]
  },
  {
   "cell_type": "code",
   "execution_count": 5,
   "metadata": {},
   "outputs": [],
   "source": [
    "creditdata['SeriousDlqin2yrs'] = creditdata.SeriousDlqin2yrs.astype(int)\n",
    "creditdata = creditdata.replace(3, 1)"
   ]
  },
  {
   "cell_type": "code",
   "execution_count": 6,
   "metadata": {},
   "outputs": [],
   "source": [
    "baddata = creditdata[(creditdata.iloc[:,0] == 1)]\n",
    "baddata = baddata.drop(baddata.columns[[0]], axis=1)"
   ]
  },
  {
   "cell_type": "markdown",
   "metadata": {},
   "source": [
    "# First model"
   ]
  },
  {
   "cell_type": "code",
   "execution_count": 7,
   "metadata": {},
   "outputs": [],
   "source": [
    "feature_cols = ['RevolvingUtilizationOfUnsecuredLines', 'age', 'NumberOfTime30-59DaysPastDueNotWorse', 'DebtRatio', 'MonthlyIncome', 'NumberOfOpenCreditLinesAndLoans', 'NumberOfTimes90DaysLate', 'NumberRealEstateLoansOrLines', 'NumberOfTime60-89DaysPastDueNotWorse', 'NumberOfDependents']\n",
    "X = creditdata[feature_cols]\n",
    "y = creditdata.SeriousDlqin2yrs"
   ]
  },
  {
   "cell_type": "code",
   "execution_count": 8,
   "metadata": {
    "scrolled": true
   },
   "outputs": [],
   "source": [
    "X_train, X_test, y_train, y_test = train_test_split(X, y, test_size = 0.4, random_state = 0)"
   ]
  },
  {
   "cell_type": "code",
   "execution_count": 9,
   "metadata": {},
   "outputs": [],
   "source": [
    "model = Sequential()\n",
    "\n",
    "model.add(Dense(10, kernel_regularizer=l2(0.01), activation='relu', input_dim = 10))\n",
    "model.add(Dense(16, kernel_regularizer=l2(0.01), activation='relu'))\n",
    "model.add(Dense(8, kernel_regularizer=l2(0.01), activation='relu'))\n",
    "model.add(Dense(1, activation='sigmoid'))"
   ]
  },
  {
   "cell_type": "code",
   "execution_count": 10,
   "metadata": {
    "scrolled": true
   },
   "outputs": [
    {
     "name": "stdout",
     "output_type": "stream",
     "text": [
      "_________________________________________________________________\n",
      "Layer (type)                 Output Shape              Param #   \n",
      "=================================================================\n",
      "dense_1 (Dense)              (None, 10)                110       \n",
      "_________________________________________________________________\n",
      "dense_2 (Dense)              (None, 16)                176       \n",
      "_________________________________________________________________\n",
      "dense_3 (Dense)              (None, 8)                 136       \n",
      "_________________________________________________________________\n",
      "dense_4 (Dense)              (None, 1)                 9         \n",
      "=================================================================\n",
      "Total params: 431\n",
      "Trainable params: 431\n",
      "Non-trainable params: 0\n",
      "_________________________________________________________________\n"
     ]
    }
   ],
   "source": [
    "model.summary()"
   ]
  },
  {
   "cell_type": "code",
   "execution_count": 11,
   "metadata": {},
   "outputs": [],
   "source": [
    "model.compile(optimizer=Adam(lr = 0.0001),\n",
    "              loss='binary_crossentropy',\n",
    "              metrics=['accuracy'])"
   ]
  },
  {
   "cell_type": "code",
   "execution_count": 12,
   "metadata": {},
   "outputs": [
    {
     "name": "stdout",
     "output_type": "stream",
     "text": [
      "Train on 72161 samples, validate on 48108 samples\n",
      "Epoch 1/4\n",
      "72161/72161 [==============================] - 10s 144us/step - loss: 0.5832 - acc: 0.8931 - val_loss: 0.3635 - val_acc: 0.9304\n",
      "Epoch 2/4\n",
      "72161/72161 [==============================] - 8s 106us/step - loss: 0.3176 - acc: 0.9306 - val_loss: 0.2905 - val_acc: 0.9306\n",
      "Epoch 3/4\n",
      "72161/72161 [==============================] - 8s 113us/step - loss: 0.2770 - acc: 0.9307 - val_loss: 0.2673 - val_acc: 0.9304\n",
      "Epoch 4/4\n",
      "72161/72161 [==============================] - 11s 151us/step - loss: 0.2613 - acc: 0.9306 - val_loss: 0.2574 - val_acc: 0.9304\n"
     ]
    },
    {
     "data": {
      "text/plain": [
       "<keras.callbacks.History at 0x224d947c240>"
      ]
     },
     "execution_count": 12,
     "metadata": {},
     "output_type": "execute_result"
    }
   ],
   "source": [
    "model.fit(x = X_train, y = y_train,\n",
    "          validation_data=[X_test, y_test],\n",
    "          epochs = 4,\n",
    "          batch_size=20)"
   ]
  },
  {
   "cell_type": "code",
   "execution_count": 13,
   "metadata": {},
   "outputs": [
    {
     "name": "stdout",
     "output_type": "stream",
     "text": [
      "AUC:  0.7502266110524116\n"
     ]
    }
   ],
   "source": [
    "nn_pred = model.predict(X_test)\n",
    "print('AUC: ', metrics.roc_auc_score(y_test, nn_pred))"
   ]
  },
  {
   "cell_type": "code",
   "execution_count": 14,
   "metadata": {},
   "outputs": [
    {
     "data": {
      "image/png": "[encoded data removed]",
      "text/plain": [
       "<Figure size 432x288 with 1 Axes>"
      ]
     },
     "metadata": {
      "needs_background": "light"
     },
     "output_type": "display_data"
    }
   ],
   "source": [
    "actual = y_test\n",
    "predictions = model.predict(X_test)\n",
    "false_positive_rate, true_positive_rate, thresholds = roc_curve(actual, predictions)\n",
    "roc_auc = auc(false_positive_rate, true_positive_rate)\n",
    "plt.title('Receiver Operating Characteristic')\n",
    "plt.plot(false_positive_rate, true_positive_rate, 'b',\n",
    "label='AUC = %0.2f'% roc_auc)\n",
    "plt.legend(loc='lower right')\n",
    "plt.plot([0,1],[0,1],'r--')\n",
    "plt.xlim([-0.1,1.2])\n",
    "plt.ylim([-0.1,1.2])\n",
    "plt.ylabel('True Positive Rate')\n",
    "plt.xlabel('False Positive Rate')\n",
    "plt.show()"
   ]
  },
  {
   "cell_type": "markdown",
   "metadata": {},
   "source": [
    "# Second model: SMOTE"
   ]
  },
  {
   "cell_type": "code",
   "execution_count": 15,
   "metadata": {},
   "outputs": [
    {
     "data": {
      "text/plain": [
       "array([111912,   8357], dtype=int64)"
      ]
     },
     "execution_count": 15,
     "metadata": {},
     "output_type": "execute_result"
    }
   ],
   "source": [
    "np.bincount(y)"
   ]
  },
  {
   "cell_type": "code",
   "execution_count": 16,
   "metadata": {},
   "outputs": [],
   "source": [
    "X_smote, y_smote = SMOTE(random_state=12, ratio = 1.0).fit_sample(X, y)"
   ]
  },
  {
   "cell_type": "code",
   "execution_count": 17,
   "metadata": {},
   "outputs": [
    {
     "data": {
      "text/plain": [
       "array([111912, 111912], dtype=int64)"
      ]
     },
     "execution_count": 17,
     "metadata": {},
     "output_type": "execute_result"
    }
   ],
   "source": [
    "np.bincount(y_smote)"
   ]
  },
  {
   "cell_type": "code",
   "execution_count": 18,
   "metadata": {},
   "outputs": [],
   "source": [
    "X_smote = pd.DataFrame(X_smote)\n",
    "y_smote = pd.DataFrame(y_smote)"
   ]
  },
  {
   "cell_type": "code",
   "execution_count": 19,
   "metadata": {},
   "outputs": [],
   "source": [
    "X_train1, X_test1, y_train1, y_test1 = train_test_split(X_smote, y_smote, test_size = 0.4, random_state = 0)"
   ]
  },
  {
   "cell_type": "code",
   "execution_count": 20,
   "metadata": {},
   "outputs": [
    {
     "name": "stdout",
     "output_type": "stream",
     "text": [
      "Train on 134294 samples, validate on 48108 samples\n",
      "Epoch 1/4\n",
      "134294/134294 [==============================] - 29s 214us/step - loss: 0.6579 - acc: 0.6790 - val_loss: 0.5879 - val_acc: 0.7925\n",
      "Epoch 2/4\n",
      "134294/134294 [==============================] - 25s 183us/step - loss: 0.6101 - acc: 0.7227 - val_loss: 0.5764 - val_acc: 0.8252\n",
      "Epoch 3/4\n",
      "134294/134294 [==============================] - 20s 150us/step - loss: 0.6008 - acc: 0.7286 - val_loss: 0.5711 - val_acc: 0.8379\n",
      "Epoch 4/4\n",
      "134294/134294 [==============================] - 23s 172us/step - loss: 0.5959 - acc: 0.7304 - val_loss: 0.5804 - val_acc: 0.8185\n"
     ]
    },
    {
     "data": {
      "text/plain": [
       "<keras.callbacks.History at 0x224d0188fd0>"
      ]
     },
     "execution_count": 20,
     "metadata": {},
     "output_type": "execute_result"
    }
   ],
   "source": [
    "model.fit(x = X_train1, y = y_train1,\n",
    "          validation_data=[X_test, y_test],\n",
    "          epochs = 4,\n",
    "          batch_size=20)"
   ]
  },
  {
   "cell_type": "code",
   "execution_count": 21,
   "metadata": {},
   "outputs": [
    {
     "name": "stdout",
     "output_type": "stream",
     "text": [
      "AUC:  0.8048810733863294\n"
     ]
    }
   ],
   "source": [
    "nn_pred = model.predict(X_test1)\n",
    "print('AUC: ', metrics.roc_auc_score(y_test1, nn_pred))"
   ]
  },
  {
   "cell_type": "code",
   "execution_count": 22,
   "metadata": {},
   "outputs": [
    {
     "data": {
      "image/png": "[encoded data removed]",
      "text/plain": [
       "<Figure size 432x288 with 1 Axes>"
      ]
     },
     "metadata": {
      "needs_background": "light"
     },
     "output_type": "display_data"
    }
   ],
   "source": [
    "actual = y_test1\n",
    "predictions = model.predict(X_test1)\n",
    "false_positive_rate, true_positive_rate, thresholds = roc_curve(actual, predictions)\n",
    "roc_auc = auc(false_positive_rate, true_positive_rate)\n",
    "plt.title('Receiver Operating Characteristic')\n",
    "plt.plot(false_positive_rate, true_positive_rate, 'b',\n",
    "label='AUC = %0.2f'% roc_auc)\n",
    "plt.legend(loc='lower right')\n",
    "plt.plot([0,1],[0,1],'r--')\n",
    "plt.xlim([-0.1,1.2])\n",
    "plt.ylim([-0.1,1.2])\n",
    "plt.ylabel('True Positive Rate')\n",
    "plt.xlabel('False Positive Rate')\n",
    "plt.show()"
   ]
  },
  {
   "cell_type": "markdown",
   "metadata": {},
   "source": [
    "# Third model: Variational Autoencoder"
   ]
  },
  {
   "cell_type": "markdown",
   "metadata": {},
   "source": [
    "### create and train the variational autoencoder"
   ]
  },
  {
   "cell_type": "code",
   "execution_count": 23,
   "metadata": {},
   "outputs": [],
   "source": [
    "hiddendim = 8\n",
    "latentdim = 6"
   ]
  },
  {
   "cell_type": "code",
   "execution_count": 24,
   "metadata": {},
   "outputs": [],
   "source": [
    "# build encoder (first step)\n",
    "inputs = Input(shape=(10, ), name='encoder_input')\n",
    "x = Dense(hiddendim, activation='relu')(inputs)\n",
    "z_mean = Dense(latentdim, name='z_mean')(x)\n",
    "z_sd = Dense(latentdim, name='z_sd')(x)"
   ]
  },
  {
   "cell_type": "code",
   "execution_count": 25,
   "metadata": {},
   "outputs": [],
   "source": [
    "# reparametrization trick\n",
    "def sampling(args):\n",
    "    z_mean, z_sd = args\n",
    "    epsilon = K.random_normal(shape=(K.shape(z_mean)[0], K.int_shape(z_mean)[1]))\n",
    "    return z_mean + K.square(z_sd) * epsilon"
   ]
  },
  {
   "cell_type": "code",
   "execution_count": 26,
   "metadata": {},
   "outputs": [],
   "source": [
    "# layer object z\n",
    "z = Lambda(sampling, output_shape=(latentdim,), name='z')([z_mean, z_sd])"
   ]
  },
  {
   "cell_type": "code",
   "execution_count": 27,
   "metadata": {},
   "outputs": [],
   "source": [
    "# build encoder (second step)\n",
    "encoder = Model(inputs, [z_mean, z_sd, z], name='encoder')"
   ]
  },
  {
   "cell_type": "code",
   "execution_count": 28,
   "metadata": {},
   "outputs": [],
   "source": [
    "# build decoder (first step)\n",
    "latent_inputs = Input(shape=(latentdim,), name='z_sampling')\n",
    "x = Dense(hiddendim, activation='relu')(latent_inputs)\n",
    "outputs = Dense(10, activation='tanh')(x)"
   ]
  },
  {
   "cell_type": "code",
   "execution_count": 29,
   "metadata": {},
   "outputs": [],
   "source": [
    "# build decoder (second step)\n",
    "decoder = Model(latent_inputs, outputs, name='decoder')"
   ]
  },
  {
   "cell_type": "code",
   "execution_count": 30,
   "metadata": {},
   "outputs": [],
   "source": [
    "# build VAE model\n",
    "outputs = decoder(encoder(inputs)[2])\n",
    "vae = Model(inputs, outputs, name='vae_model')"
   ]
  },
  {
   "cell_type": "code",
   "execution_count": 31,
   "metadata": {},
   "outputs": [],
   "source": [
    "#define loss function\n",
    "reconstruction_loss = mse(inputs, outputs)\n",
    "kl_loss = (K.square(z_mean) + K.square(z_sd) - K.log(K.square(z_sd)) - 1)/2\n",
    "kl_loss = K.sum(kl_loss, axis=-1)\n",
    "vae_loss = K.mean(reconstruction_loss + kl_loss)\n",
    "vae.add_loss(vae_loss)"
   ]
  },
  {
   "cell_type": "code",
   "execution_count": 32,
   "metadata": {},
   "outputs": [],
   "source": [
    "vae.compile(optimizer='adam')"
   ]
  },
  {
   "cell_type": "code",
   "execution_count": 33,
   "metadata": {},
   "outputs": [
    {
     "name": "stdout",
     "output_type": "stream",
     "text": [
      "Train on 8357 samples, validate on 8357 samples\n",
      "Epoch 1/5\n",
      "8357/8357 [==============================] - 6s 763us/step - loss: 9.3424 - val_loss: 8.3752\n",
      "Epoch 2/5\n",
      "8357/8357 [==============================] - 6s 703us/step - loss: 8.0286 - val_loss: 7.7121\n",
      "Epoch 3/5\n",
      "8357/8357 [==============================] - 5s 563us/step - loss: 7.5298 - val_loss: 7.3149\n",
      "Epoch 4/5\n",
      "8357/8357 [==============================] - 6s 680us/step - loss: 7.0407 - val_loss: 6.8930\n",
      "Epoch 5/5\n",
      "8357/8357 [==============================] - 5s 608us/step - loss: 6.8307 - val_loss: 6.6799\n"
     ]
    },
    {
     "data": {
      "text/plain": [
       "<keras.callbacks.History at 0x224db2bde10>"
      ]
     },
     "execution_count": 33,
     "metadata": {},
     "output_type": "execute_result"
    }
   ],
   "source": [
    "vae.fit(baddata, epochs=5, batch_size=6, validation_data=(baddata, None))"
   ]
  },
  {
   "cell_type": "markdown",
   "metadata": {},
   "source": [
    "### generate synthetic data of the minority class and add it to creditdata"
   ]
  },
  {
   "cell_type": "code",
   "execution_count": 34,
   "metadata": {},
   "outputs": [],
   "source": [
    "mean = [0,0,0,0,0,0]\n",
    "cov = [[1,0,0,0,0,0],[0,1,0,0,0,0],[0,0,1,0,0,0],[0,0,0,1,0,0],[0,0,0,0,1,0],[0,0,0,0,0,1]]"
   ]
  },
  {
   "cell_type": "code",
   "execution_count": 35,
   "metadata": {},
   "outputs": [],
   "source": [
    "nd = 103555"
   ]
  },
  {
   "cell_type": "code",
   "execution_count": 36,
   "metadata": {},
   "outputs": [],
   "source": [
    "syntheticdata = pd.DataFrame.from_records(decoder.predict(np.random.multivariate_normal(mean,cov,nd)))"
   ]
  },
  {
   "cell_type": "code",
   "execution_count": 37,
   "metadata": {},
   "outputs": [],
   "source": [
    "syntheticdata.insert(loc=0, column='blub', value=[1]*nd)\n",
    "syntheticdata = syntheticdata.values\n",
    "syntheticdata = pd.DataFrame(syntheticdata)\n",
    "syntheticdata = syntheticdata.rename(index=str, columns={0: \"SeriousDlqin2yrs\", 1: \"RevolvingUtilizationOfUnsecuredLines\", 2: \"age\", 3: \"NumberOfTime30-59DaysPastDueNotWorse\", 4: \"DebtRatio\", 5: \"MonthlyIncome\", 6: \"NumberOfOpenCreditLinesAndLoans\", 7: \"NumberOfTimes90DaysLate\", 8: \"NumberRealEstateLoansOrLines\", 9: \"NumberOfTime60-89DaysPastDueNotWorse\", 10: \"NumberOfDependents\"})\n",
    "syntheticdata['SeriousDlqin2yrs'] = syntheticdata.SeriousDlqin2yrs.astype(int)"
   ]
  },
  {
   "cell_type": "code",
   "execution_count": 38,
   "metadata": {},
   "outputs": [],
   "source": [
    "bigdata = pd.concat([creditdata, syntheticdata], ignore_index=True, sort=False)"
   ]
  },
  {
   "cell_type": "code",
   "execution_count": 39,
   "metadata": {},
   "outputs": [
    {
     "name": "stdout",
     "output_type": "stream",
     "text": [
      "SeriousDlqin2yrs\n",
      "0    111912\n",
      "1    111912\n",
      "dtype: int64\n"
     ]
    }
   ],
   "source": [
    "print(bigdata.groupby('SeriousDlqin2yrs').size())"
   ]
  },
  {
   "cell_type": "markdown",
   "metadata": {},
   "source": [
    "### train model with augmented dataset"
   ]
  },
  {
   "cell_type": "code",
   "execution_count": 40,
   "metadata": {},
   "outputs": [],
   "source": [
    "feature_cols = ['RevolvingUtilizationOfUnsecuredLines', 'age', 'NumberOfTime30-59DaysPastDueNotWorse', 'DebtRatio', 'MonthlyIncome', 'NumberOfOpenCreditLinesAndLoans', 'NumberOfTimes90DaysLate', 'NumberRealEstateLoansOrLines', 'NumberOfTime60-89DaysPastDueNotWorse', 'NumberOfDependents']\n",
    "X = bigdata[feature_cols]\n",
    "y = bigdata.SeriousDlqin2yrs"
   ]
  },
  {
   "cell_type": "code",
   "execution_count": 41,
   "metadata": {
    "scrolled": false
   },
   "outputs": [],
   "source": [
    "X_train2, X_test2, y_train2, y_test2 = train_test_split(X, y, test_size = 0.4, random_state = 0)"
   ]
  },
  {
   "cell_type": "code",
   "execution_count": 42,
   "metadata": {},
   "outputs": [
    {
     "name": "stdout",
     "output_type": "stream",
     "text": [
      "Train on 134294 samples, validate on 48108 samples\n",
      "Epoch 1/4\n",
      "134294/134294 [==============================] - 22s 164us/step - loss: 0.3069 - acc: 0.9327 - val_loss: 0.3700 - val_acc: 0.9049\n",
      "Epoch 2/4\n",
      "134294/134294 [==============================] - 21s 160us/step - loss: 0.2894 - acc: 0.9359 - val_loss: 0.3666 - val_acc: 0.9043\n",
      "Epoch 3/4\n",
      "134294/134294 [==============================] - 28s 205us/step - loss: 0.2830 - acc: 0.9363 - val_loss: 0.3519 - val_acc: 0.9087\n",
      "Epoch 4/4\n",
      "134294/134294 [==============================] - 29s 218us/step - loss: 0.2782 - acc: 0.9365 - val_loss: 0.3539 - val_acc: 0.9074\n"
     ]
    },
    {
     "data": {
      "text/plain": [
       "<keras.callbacks.History at 0x224e2366cf8>"
      ]
     },
     "execution_count": 42,
     "metadata": {},
     "output_type": "execute_result"
    }
   ],
   "source": [
    "model.fit(x = X_train2, y = y_train2,\n",
    "          validation_data=[X_test, y_test],\n",
    "          epochs = 4,\n",
    "          batch_size=20)"
   ]
  },
  {
   "cell_type": "code",
   "execution_count": 43,
   "metadata": {},
   "outputs": [
    {
     "name": "stdout",
     "output_type": "stream",
     "text": [
      "AUC:  0.8101516651859857\n"
     ]
    }
   ],
   "source": [
    "nn_pred = model.predict(X_test)\n",
    "print('AUC: ', metrics.roc_auc_score(y_test, nn_pred))"
   ]
  },
  {
   "cell_type": "code",
   "execution_count": 44,
   "metadata": {
    "scrolled": false
   },
   "outputs": [
    {
     "data": {
      "image/png": "[encoded data removed]",
      "text/plain": [
       "<Figure size 432x288 with 1 Axes>"
      ]
     },
     "metadata": {
      "needs_background": "light"
     },
     "output_type": "display_data"
    }
   ],
   "source": [
    "actual = y_test\n",
    "predictions = model.predict(X_test)\n",
    "false_positive_rate, true_positive_rate, thresholds = roc_curve(actual, predictions)\n",
    "roc_auc = auc(false_positive_rate, true_positive_rate)\n",
    "plt.title('Receiver Operating Characteristic')\n",
    "plt.plot(false_positive_rate, true_positive_rate, 'b',\n",
    "label='AUC = %0.2f'% roc_auc)\n",
    "plt.legend(loc='lower right')\n",
    "plt.plot([0,1],[0,1],'r--')\n",
    "plt.xlim([-0.1,1.2])\n",
    "plt.ylim([-0.1,1.2])\n",
    "plt.ylabel('True Positive Rate')\n",
    "plt.xlabel('False Positive Rate')\n",
    "plt.show()"
   ]
  },
  {
   "cell_type": "markdown",
   "metadata": {},
   "source": [
    "# Fourth model: Generative Adversial Network"
   ]
  },
  {
   "cell_type": "markdown",
   "metadata": {},
   "source": [
    "### Build Models"
   ]
  },
  {
   "cell_type": "code",
   "execution_count": 45,
   "metadata": {},
   "outputs": [],
   "source": [
    "# make latent samples from normal distribution\n",
    "def make_latent_samples(n_samples, sample_size):\n",
    "    return np.random.normal(loc=0, scale=1, size=(n_samples, sample_size))"
   ]
  },
  {
   "cell_type": "code",
   "execution_count": 46,
   "metadata": {},
   "outputs": [],
   "source": [
    "# make sure that the discriminator will be fixed during training\n",
    "def make_trainable(model, trainable):\n",
    "    for layer in model.layers:\n",
    "        layer.trainable = trainable"
   ]
  },
  {
   "cell_type": "code",
   "execution_count": 47,
   "metadata": {},
   "outputs": [],
   "source": [
    "def make_GAN(sample_size, \n",
    "             g_hidden_size, \n",
    "             d_hidden_size, \n",
    "             g_learning_rate,\n",
    "             d_learning_rate):\n",
    "    K.clear_session()\n",
    "    \n",
    "    generator = Sequential([\n",
    "        Dense(g_hidden_size, input_shape=(sample_size,)),\n",
    "        Activation('relu'),\n",
    "        Dense(10),        \n",
    "        Activation('sigmoid')\n",
    "    ], name='generator')    \n",
    "\n",
    "    discriminator = Sequential([\n",
    "        Dense(d_hidden_size, input_shape=(10,)),\n",
    "        Activation('relu'),\n",
    "        Dense(1),\n",
    "        Activation('sigmoid')\n",
    "    ], name='discriminator')    \n",
    "    \n",
    "    gan = Sequential([\n",
    "        generator,\n",
    "        discriminator\n",
    "    ])\n",
    "    \n",
    "    discriminator.compile(optimizer=Adam(lr=d_learning_rate), loss='binary_crossentropy')\n",
    "    gan.compile(optimizer=Adam(lr=g_learning_rate), loss='binary_crossentropy')\n",
    "    \n",
    "    return gan, generator, discriminator"
   ]
  },
  {
   "cell_type": "code",
   "execution_count": 48,
   "metadata": {},
   "outputs": [],
   "source": [
    "# make labels for the batch size and the test size\n",
    "def make_labels(size):\n",
    "    return np.ones([size, 1]), np.zeros([size, 1])"
   ]
  },
  {
   "cell_type": "markdown",
   "metadata": {},
   "source": [
    "### Training"
   ]
  },
  {
   "cell_type": "code",
   "execution_count": 49,
   "metadata": {},
   "outputs": [
    {
     "name": "stderr",
     "output_type": "stream",
     "text": [
      "C:\\Users\\Gabriel\\Anaconda3\\envs\\deeplearning\\lib\\site-packages\\keras\\engine\\training.py:490: UserWarning: Discrepancy between trainable weights and collected trainable weights, did you set `model.trainable` without calling `model.compile` after ?\n",
      "  'Discrepancy between trainable weights and collected trainable'\n"
     ]
    },
    {
     "name": "stdout",
     "output_type": "stream",
     "text": [
      "Epoch:   1/200 Discriminator Loss: 1.6785 Generator Loss: 0.4358\n",
      "Epoch:   2/200 Discriminator Loss: 1.5942 Generator Loss: 0.4781\n",
      "Epoch:   3/200 Discriminator Loss: 1.6571 Generator Loss: 0.4110\n",
      "Epoch:   4/200 Discriminator Loss: 1.6889 Generator Loss: 0.3946\n",
      "Epoch:   5/200 Discriminator Loss: 1.6044 Generator Loss: 0.4187\n",
      "Epoch:   6/200 Discriminator Loss: 1.6849 Generator Loss: 0.3839\n",
      "Epoch:   7/200 Discriminator Loss: 1.5691 Generator Loss: 0.4363\n",
      "Epoch:   8/200 Discriminator Loss: 1.4572 Generator Loss: 0.4335\n",
      "Epoch:   9/200 Discriminator Loss: 1.6257 Generator Loss: 0.3978\n",
      "Epoch:  10/200 Discriminator Loss: 1.5167 Generator Loss: 0.4289\n",
      "Epoch:  11/200 Discriminator Loss: 1.6222 Generator Loss: 0.4102\n",
      "Epoch:  12/200 Discriminator Loss: 1.5324 Generator Loss: 0.4224\n",
      "Epoch:  13/200 Discriminator Loss: 1.5836 Generator Loss: 0.4112\n",
      "Epoch:  14/200 Discriminator Loss: 1.4244 Generator Loss: 0.4033\n",
      "Epoch:  15/200 Discriminator Loss: 1.4904 Generator Loss: 0.4420\n",
      "Epoch:  16/200 Discriminator Loss: 1.3626 Generator Loss: 0.4363\n",
      "Epoch:  17/200 Discriminator Loss: 1.4227 Generator Loss: 0.4364\n",
      "Epoch:  18/200 Discriminator Loss: 1.3884 Generator Loss: 0.4283\n",
      "Epoch:  19/200 Discriminator Loss: 1.3004 Generator Loss: 0.4511\n",
      "Epoch:  20/200 Discriminator Loss: 1.3392 Generator Loss: 0.4630\n",
      "Epoch:  21/200 Discriminator Loss: 1.2717 Generator Loss: 0.4518\n",
      "Epoch:  22/200 Discriminator Loss: 1.2135 Generator Loss: 0.4873\n",
      "Epoch:  23/200 Discriminator Loss: 1.3095 Generator Loss: 0.4375\n",
      "Epoch:  24/200 Discriminator Loss: 1.2121 Generator Loss: 0.4706\n",
      "Epoch:  25/200 Discriminator Loss: 1.2473 Generator Loss: 0.4649\n",
      "Epoch:  26/200 Discriminator Loss: 1.2391 Generator Loss: 0.4564\n",
      "Epoch:  27/200 Discriminator Loss: 1.2285 Generator Loss: 0.4717\n",
      "Epoch:  28/200 Discriminator Loss: 1.1253 Generator Loss: 0.4823\n",
      "Epoch:  29/200 Discriminator Loss: 1.1356 Generator Loss: 0.5033\n",
      "Epoch:  30/200 Discriminator Loss: 1.1069 Generator Loss: 0.4880\n",
      "Epoch:  31/200 Discriminator Loss: 1.2155 Generator Loss: 0.4364\n",
      "Epoch:  32/200 Discriminator Loss: 1.2099 Generator Loss: 0.4411\n",
      "Epoch:  33/200 Discriminator Loss: 1.2059 Generator Loss: 0.4487\n",
      "Epoch:  34/200 Discriminator Loss: 1.0964 Generator Loss: 0.4904\n",
      "Epoch:  35/200 Discriminator Loss: 1.2156 Generator Loss: 0.4504\n",
      "Epoch:  36/200 Discriminator Loss: 1.0895 Generator Loss: 0.4893\n",
      "Epoch:  37/200 Discriminator Loss: 1.0979 Generator Loss: 0.4986\n",
      "Epoch:  38/200 Discriminator Loss: 1.1087 Generator Loss: 0.5168\n",
      "Epoch:  39/200 Discriminator Loss: 1.1225 Generator Loss: 0.4861\n",
      "Epoch:  40/200 Discriminator Loss: 1.1241 Generator Loss: 0.4944\n",
      "Epoch:  41/200 Discriminator Loss: 1.1088 Generator Loss: 0.5070\n",
      "Epoch:  42/200 Discriminator Loss: 1.1258 Generator Loss: 0.5049\n",
      "Epoch:  43/200 Discriminator Loss: 1.1380 Generator Loss: 0.4671\n",
      "Epoch:  44/200 Discriminator Loss: 1.1088 Generator Loss: 0.4883\n",
      "Epoch:  45/200 Discriminator Loss: 1.1358 Generator Loss: 0.4863\n",
      "Epoch:  46/200 Discriminator Loss: 1.1544 Generator Loss: 0.4625\n",
      "Epoch:  47/200 Discriminator Loss: 1.0789 Generator Loss: 0.5274\n",
      "Epoch:  48/200 Discriminator Loss: 1.1002 Generator Loss: 0.5069\n",
      "Epoch:  49/200 Discriminator Loss: 1.0556 Generator Loss: 0.4915\n",
      "Epoch:  50/200 Discriminator Loss: 1.0271 Generator Loss: 0.5252\n",
      "Epoch:  51/200 Discriminator Loss: 1.1424 Generator Loss: 0.4939\n",
      "Epoch:  52/200 Discriminator Loss: 1.0422 Generator Loss: 0.5217\n",
      "Epoch:  53/200 Discriminator Loss: 1.0959 Generator Loss: 0.5071\n",
      "Epoch:  54/200 Discriminator Loss: 1.0684 Generator Loss: 0.5240\n",
      "Epoch:  55/200 Discriminator Loss: 1.2195 Generator Loss: 0.4491\n",
      "Epoch:  56/200 Discriminator Loss: 1.0382 Generator Loss: 0.5490\n",
      "Epoch:  57/200 Discriminator Loss: 1.0513 Generator Loss: 0.5440\n",
      "Epoch:  58/200 Discriminator Loss: 1.0588 Generator Loss: 0.5817\n",
      "Epoch:  59/200 Discriminator Loss: 1.1811 Generator Loss: 0.4747\n",
      "Epoch:  60/200 Discriminator Loss: 1.1169 Generator Loss: 0.4786\n",
      "Epoch:  61/200 Discriminator Loss: 1.0971 Generator Loss: 0.5230\n",
      "Epoch:  62/200 Discriminator Loss: 1.1221 Generator Loss: 0.4931\n",
      "Epoch:  63/200 Discriminator Loss: 1.1813 Generator Loss: 0.4862\n",
      "Epoch:  64/200 Discriminator Loss: 1.0869 Generator Loss: 0.5393\n",
      "Epoch:  65/200 Discriminator Loss: 1.0599 Generator Loss: 0.5112\n",
      "Epoch:  66/200 Discriminator Loss: 1.0783 Generator Loss: 0.5350\n",
      "Epoch:  67/200 Discriminator Loss: 1.0129 Generator Loss: 0.5838\n",
      "Epoch:  68/200 Discriminator Loss: 1.1137 Generator Loss: 0.5216\n",
      "Epoch:  69/200 Discriminator Loss: 1.0391 Generator Loss: 0.5338\n",
      "Epoch:  70/200 Discriminator Loss: 1.1404 Generator Loss: 0.4928\n",
      "Epoch:  71/200 Discriminator Loss: 0.9950 Generator Loss: 0.6258\n",
      "Epoch:  72/200 Discriminator Loss: 0.9928 Generator Loss: 0.5871\n",
      "Epoch:  73/200 Discriminator Loss: 1.0441 Generator Loss: 0.5743\n",
      "Epoch:  74/200 Discriminator Loss: 1.0472 Generator Loss: 0.5435\n",
      "Epoch:  75/200 Discriminator Loss: 1.0245 Generator Loss: 0.5654\n",
      "Epoch:  76/200 Discriminator Loss: 0.9952 Generator Loss: 0.5685\n",
      "Epoch:  77/200 Discriminator Loss: 0.9504 Generator Loss: 0.6052\n",
      "Epoch:  78/200 Discriminator Loss: 1.0479 Generator Loss: 0.5730\n",
      "Epoch:  79/200 Discriminator Loss: 0.9876 Generator Loss: 0.5504\n",
      "Epoch:  80/200 Discriminator Loss: 0.9142 Generator Loss: 0.6142\n",
      "Epoch:  81/200 Discriminator Loss: 0.9459 Generator Loss: 0.5925\n",
      "Epoch:  82/200 Discriminator Loss: 0.9830 Generator Loss: 0.5837\n",
      "Epoch:  83/200 Discriminator Loss: 1.0052 Generator Loss: 0.5709\n",
      "Epoch:  84/200 Discriminator Loss: 1.0065 Generator Loss: 0.5652\n",
      "Epoch:  85/200 Discriminator Loss: 0.9348 Generator Loss: 0.6101\n",
      "Epoch:  86/200 Discriminator Loss: 0.9622 Generator Loss: 0.5911\n",
      "Epoch:  87/200 Discriminator Loss: 0.9447 Generator Loss: 0.6337\n",
      "Epoch:  88/200 Discriminator Loss: 0.9988 Generator Loss: 0.5759\n",
      "Epoch:  89/200 Discriminator Loss: 0.9525 Generator Loss: 0.5918\n",
      "Epoch:  90/200 Discriminator Loss: 1.0238 Generator Loss: 0.5648\n",
      "Epoch:  91/200 Discriminator Loss: 0.9966 Generator Loss: 0.5906\n",
      "Epoch:  92/200 Discriminator Loss: 0.9583 Generator Loss: 0.5710\n",
      "Epoch:  93/200 Discriminator Loss: 0.9408 Generator Loss: 0.5954\n",
      "Epoch:  94/200 Discriminator Loss: 0.9840 Generator Loss: 0.5848\n",
      "Epoch:  95/200 Discriminator Loss: 1.0071 Generator Loss: 0.5879\n",
      "Epoch:  96/200 Discriminator Loss: 0.9055 Generator Loss: 0.6224\n",
      "Epoch:  97/200 Discriminator Loss: 1.0053 Generator Loss: 0.5752\n",
      "Epoch:  98/200 Discriminator Loss: 0.9860 Generator Loss: 0.5667\n",
      "Epoch:  99/200 Discriminator Loss: 1.0188 Generator Loss: 0.6038\n",
      "Epoch: 100/200 Discriminator Loss: 1.0000 Generator Loss: 0.5884\n",
      "Epoch: 101/200 Discriminator Loss: 1.0491 Generator Loss: 0.5727\n",
      "Epoch: 102/200 Discriminator Loss: 0.9289 Generator Loss: 0.6308\n",
      "Epoch: 103/200 Discriminator Loss: 0.9576 Generator Loss: 0.6201\n",
      "Epoch: 104/200 Discriminator Loss: 0.9395 Generator Loss: 0.6019\n",
      "Epoch: 105/200 Discriminator Loss: 0.9695 Generator Loss: 0.5656\n",
      "Epoch: 106/200 Discriminator Loss: 0.9619 Generator Loss: 0.5780\n",
      "Epoch: 107/200 Discriminator Loss: 0.8813 Generator Loss: 0.6162\n",
      "Epoch: 108/200 Discriminator Loss: 1.0197 Generator Loss: 0.5940\n",
      "Epoch: 109/200 Discriminator Loss: 0.9718 Generator Loss: 0.5879\n",
      "Epoch: 110/200 Discriminator Loss: 0.9423 Generator Loss: 0.6285\n",
      "Epoch: 111/200 Discriminator Loss: 0.9010 Generator Loss: 0.6198\n",
      "Epoch: 112/200 Discriminator Loss: 0.9150 Generator Loss: 0.6177\n",
      "Epoch: 113/200 Discriminator Loss: 0.9700 Generator Loss: 0.6074\n",
      "Epoch: 114/200 Discriminator Loss: 0.9159 Generator Loss: 0.6428\n",
      "Epoch: 115/200 Discriminator Loss: 0.8510 Generator Loss: 0.6506\n",
      "Epoch: 116/200 Discriminator Loss: 0.8850 Generator Loss: 0.6447\n",
      "Epoch: 117/200 Discriminator Loss: 0.8600 Generator Loss: 0.6809\n",
      "Epoch: 118/200 Discriminator Loss: 0.8885 Generator Loss: 0.6810\n",
      "Epoch: 119/200 Discriminator Loss: 0.8358 Generator Loss: 0.6907\n",
      "Epoch: 120/200 Discriminator Loss: 0.9144 Generator Loss: 0.6723\n",
      "Epoch: 121/200 Discriminator Loss: 0.8339 Generator Loss: 0.6899\n",
      "Epoch: 122/200 Discriminator Loss: 0.8346 Generator Loss: 0.7046\n",
      "Epoch: 123/200 Discriminator Loss: 0.8328 Generator Loss: 0.7134\n",
      "Epoch: 124/200 Discriminator Loss: 0.8227 Generator Loss: 0.7206\n",
      "Epoch: 125/200 Discriminator Loss: 0.8784 Generator Loss: 0.7380\n",
      "Epoch: 126/200 Discriminator Loss: 0.8606 Generator Loss: 0.7444\n",
      "Epoch: 127/200 Discriminator Loss: 0.7515 Generator Loss: 0.7494\n"
     ]
    },
    {
     "name": "stdout",
     "output_type": "stream",
     "text": [
      "Epoch: 128/200 Discriminator Loss: 0.7609 Generator Loss: 0.7611\n",
      "Epoch: 129/200 Discriminator Loss: 0.7930 Generator Loss: 0.7675\n",
      "Epoch: 130/200 Discriminator Loss: 0.7647 Generator Loss: 0.7622\n",
      "Epoch: 131/200 Discriminator Loss: 0.7500 Generator Loss: 0.7713\n",
      "Epoch: 132/200 Discriminator Loss: 0.7951 Generator Loss: 0.7868\n",
      "Epoch: 133/200 Discriminator Loss: 0.7303 Generator Loss: 0.7871\n",
      "Epoch: 134/200 Discriminator Loss: 0.8268 Generator Loss: 0.7971\n",
      "Epoch: 135/200 Discriminator Loss: 0.6861 Generator Loss: 0.8440\n",
      "Epoch: 136/200 Discriminator Loss: 0.7154 Generator Loss: 0.8085\n",
      "Epoch: 137/200 Discriminator Loss: 0.7565 Generator Loss: 0.8111\n",
      "Epoch: 138/200 Discriminator Loss: 0.7702 Generator Loss: 0.7952\n",
      "Epoch: 139/200 Discriminator Loss: 0.8500 Generator Loss: 0.7765\n",
      "Epoch: 140/200 Discriminator Loss: 0.7705 Generator Loss: 0.8239\n",
      "Epoch: 141/200 Discriminator Loss: 0.7403 Generator Loss: 0.7832\n",
      "Epoch: 142/200 Discriminator Loss: 0.7451 Generator Loss: 0.7865\n",
      "Epoch: 143/200 Discriminator Loss: 0.7545 Generator Loss: 0.7921\n",
      "Epoch: 144/200 Discriminator Loss: 0.7439 Generator Loss: 0.8002\n",
      "Epoch: 145/200 Discriminator Loss: 0.7545 Generator Loss: 0.8153\n",
      "Epoch: 146/200 Discriminator Loss: 0.7844 Generator Loss: 0.8054\n",
      "Epoch: 147/200 Discriminator Loss: 0.8181 Generator Loss: 0.7666\n",
      "Epoch: 148/200 Discriminator Loss: 0.8113 Generator Loss: 0.7650\n",
      "Epoch: 149/200 Discriminator Loss: 0.8842 Generator Loss: 0.7705\n",
      "Epoch: 150/200 Discriminator Loss: 0.7429 Generator Loss: 0.7812\n",
      "Epoch: 151/200 Discriminator Loss: 0.8399 Generator Loss: 0.7069\n",
      "Epoch: 152/200 Discriminator Loss: 0.8393 Generator Loss: 0.7300\n",
      "Epoch: 153/200 Discriminator Loss: 0.8345 Generator Loss: 0.7345\n",
      "Epoch: 154/200 Discriminator Loss: 0.8674 Generator Loss: 0.7279\n",
      "Epoch: 155/200 Discriminator Loss: 0.9106 Generator Loss: 0.6729\n",
      "Epoch: 156/200 Discriminator Loss: 0.9437 Generator Loss: 0.6797\n",
      "Epoch: 157/200 Discriminator Loss: 0.9763 Generator Loss: 0.6288\n",
      "Epoch: 158/200 Discriminator Loss: 0.9296 Generator Loss: 0.6414\n",
      "Epoch: 159/200 Discriminator Loss: 1.0235 Generator Loss: 0.5943\n",
      "Epoch: 160/200 Discriminator Loss: 0.9842 Generator Loss: 0.5968\n",
      "Epoch: 161/200 Discriminator Loss: 0.9354 Generator Loss: 0.6222\n",
      "Epoch: 162/200 Discriminator Loss: 1.1756 Generator Loss: 0.5296\n",
      "Epoch: 163/200 Discriminator Loss: 1.1397 Generator Loss: 0.5414\n",
      "Epoch: 164/200 Discriminator Loss: 1.2172 Generator Loss: 0.5086\n",
      "Epoch: 165/200 Discriminator Loss: 1.1326 Generator Loss: 0.5097\n",
      "Epoch: 166/200 Discriminator Loss: 1.2145 Generator Loss: 0.4513\n",
      "Epoch: 167/200 Discriminator Loss: 1.2364 Generator Loss: 0.4522\n",
      "Epoch: 168/200 Discriminator Loss: 1.2383 Generator Loss: 0.4932\n",
      "Epoch: 169/200 Discriminator Loss: 1.1903 Generator Loss: 0.5220\n",
      "Epoch: 170/200 Discriminator Loss: 1.2108 Generator Loss: 0.4841\n",
      "Epoch: 171/200 Discriminator Loss: 1.2764 Generator Loss: 0.4665\n",
      "Epoch: 172/200 Discriminator Loss: 1.1195 Generator Loss: 0.5150\n",
      "Epoch: 173/200 Discriminator Loss: 1.2466 Generator Loss: 0.5288\n",
      "Epoch: 174/200 Discriminator Loss: 1.2359 Generator Loss: 0.4805\n",
      "Epoch: 175/200 Discriminator Loss: 1.2720 Generator Loss: 0.4751\n",
      "Epoch: 176/200 Discriminator Loss: 1.1663 Generator Loss: 0.4694\n",
      "Epoch: 177/200 Discriminator Loss: 1.2756 Generator Loss: 0.4462\n",
      "Epoch: 178/200 Discriminator Loss: 1.3266 Generator Loss: 0.4376\n",
      "Epoch: 179/200 Discriminator Loss: 1.3150 Generator Loss: 0.4167\n",
      "Epoch: 180/200 Discriminator Loss: 1.2547 Generator Loss: 0.4627\n",
      "Epoch: 181/200 Discriminator Loss: 1.3071 Generator Loss: 0.4051\n",
      "Epoch: 182/200 Discriminator Loss: 1.2335 Generator Loss: 0.4326\n",
      "Epoch: 183/200 Discriminator Loss: 1.2178 Generator Loss: 0.4254\n",
      "Epoch: 184/200 Discriminator Loss: 1.2235 Generator Loss: 0.4356\n",
      "Epoch: 185/200 Discriminator Loss: 1.1974 Generator Loss: 0.4452\n",
      "Epoch: 186/200 Discriminator Loss: 1.2787 Generator Loss: 0.4482\n",
      "Epoch: 187/200 Discriminator Loss: 1.2431 Generator Loss: 0.4399\n",
      "Epoch: 188/200 Discriminator Loss: 1.2224 Generator Loss: 0.4528\n",
      "Epoch: 189/200 Discriminator Loss: 1.2307 Generator Loss: 0.4393\n",
      "Epoch: 190/200 Discriminator Loss: 1.2215 Generator Loss: 0.4249\n",
      "Epoch: 191/200 Discriminator Loss: 1.2171 Generator Loss: 0.4204\n",
      "Epoch: 192/200 Discriminator Loss: 1.2208 Generator Loss: 0.4546\n",
      "Epoch: 193/200 Discriminator Loss: 1.1774 Generator Loss: 0.4504\n",
      "Epoch: 194/200 Discriminator Loss: 1.1896 Generator Loss: 0.4443\n",
      "Epoch: 195/200 Discriminator Loss: 1.1473 Generator Loss: 0.4650\n",
      "Epoch: 196/200 Discriminator Loss: 1.1556 Generator Loss: 0.4766\n",
      "Epoch: 197/200 Discriminator Loss: 1.1854 Generator Loss: 0.4758\n",
      "Epoch: 198/200 Discriminator Loss: 1.1784 Generator Loss: 0.4713\n",
      "Epoch: 199/200 Discriminator Loss: 1.1110 Generator Loss: 0.5037\n",
      "Epoch: 200/200 Discriminator Loss: 1.0858 Generator Loss: 0.4754\n"
     ]
    }
   ],
   "source": [
    "# Hyperparameters\n",
    "sample_size     = 100    # latent sample size\n",
    "g_hidden_size   = 6\n",
    "d_hidden_size   = 6\n",
    "g_learning_rate = 0.0001  # learning rate for the generator\n",
    "d_learning_rate = 0.0001   # learning rate for the discriminator\n",
    "\n",
    "epochs          = 200\n",
    "batch_size      = 64      # train batch size\n",
    "eval_size       = 16      # evaluate size\n",
    "smooth          = 0.1     # smoothing\n",
    "\n",
    "y_train_real, y_train_fake = make_labels(batch_size)\n",
    "y_eval_real,  y_eval_fake  = make_labels(eval_size)\n",
    "\n",
    "gan, generator, discriminator = make_GAN(\n",
    "    sample_size,\n",
    "    g_hidden_size,\n",
    "    d_hidden_size,\n",
    "    g_learning_rate,\n",
    "    d_learning_rate)\n",
    "\n",
    "losses = []\n",
    "for e in range(epochs):\n",
    "    for i in range(len(baddata.values)//batch_size):\n",
    "        # Real data (minority class)\n",
    "        X_batch_real = baddata.values[i*batch_size:(i+1)*batch_size]\n",
    "\n",
    "        # Latent samples\n",
    "        latent_samples = make_latent_samples(batch_size, sample_size)\n",
    "        # Fake data (on minibatches)\n",
    "        X_batch_fake = generator.predict_on_batch(latent_samples)\n",
    "\n",
    "        # Train the discriminator\n",
    "        make_trainable(discriminator, True)\n",
    "        discriminator.train_on_batch(X_batch_real, y_train_real * (1 - smooth))\n",
    "        discriminator.train_on_batch(X_batch_fake, y_train_fake)\n",
    "\n",
    "        # Train the generator (the discriminator is fixed)\n",
    "        make_trainable(discriminator, False)\n",
    "        gan.train_on_batch(latent_samples, y_train_real)\n",
    "\n",
    "    # Evaluate\n",
    "    X_eval_real = baddata.values[np.random.choice(len(baddata.values), eval_size, replace=False)]\n",
    "\n",
    "    latent_samples = make_latent_samples(eval_size, sample_size)\n",
    "    X_eval_fake = generator.predict_on_batch(latent_samples)\n",
    "\n",
    "    d_loss  = discriminator.test_on_batch(X_eval_real, y_eval_real)\n",
    "    d_loss += discriminator.test_on_batch(X_eval_fake, y_eval_fake)\n",
    "    g_loss  = gan.test_on_batch(latent_samples, y_eval_real)\n",
    "\n",
    "    losses.append((d_loss, g_loss))\n",
    "\n",
    "    print(\"Epoch: {:>3}/{} Discriminator Loss: {:>6.4f} Generator Loss: {:>6.4f}\".format(\n",
    "        e+1, epochs, d_loss, g_loss))"
   ]
  },
  {
   "cell_type": "code",
   "execution_count": 50,
   "metadata": {},
   "outputs": [
    {
     "data": {
      "image/png": "[encoded data removed]",
      "text/plain": [
       "<Figure size 432x288 with 1 Axes>"
      ]
     },
     "metadata": {
      "needs_background": "light"
     },
     "output_type": "display_data"
    }
   ],
   "source": [
    "losses = np.array(losses)\n",
    "\n",
    "fig, ax = plt.subplots()\n",
    "plt.plot(losses.T[0], label='Discriminator')\n",
    "plt.plot(losses.T[1], label='Generator')\n",
    "plt.title(\"Training Losses\")\n",
    "plt.legend(loc='upper left')\n",
    "plt.show()"
   ]
  },
  {
   "cell_type": "markdown",
   "metadata": {},
   "source": [
    "### Generate synthetic data with GAN"
   ]
  },
  {
   "cell_type": "code",
   "execution_count": 51,
   "metadata": {},
   "outputs": [],
   "source": [
    "# Generate data to fill baddata\n",
    "latent_samples = make_latent_samples(103555, sample_size) \n",
    "\n",
    "generated_data = generator.predict(latent_samples)\n",
    "generated_data = pd.DataFrame(generated_data)"
   ]
  },
  {
   "cell_type": "code",
   "execution_count": 52,
   "metadata": {},
   "outputs": [],
   "source": [
    "synthetic_data = generated_data.rename(index=str, columns={0: \"RevolvingUtilizationOfUnsecuredLines\", 1: \"age\", 2: \"NumberOfTime30-59DaysPastDueNotWorse\", 3: \"DebtRatio\", 4: \"MonthlyIncome\", 5: \"NumberOfOpenCreditLinesAndLoans\", 6: \"NumberOfTimes90DaysLate\", 7: \"NumberRealEstateLoansOrLines\", 8: \"NumberOfTime60-89DaysPastDueNotWorse\", 9: \"NumberOfDependents\"})\n",
    "synthetic_data.insert(loc=0, column='SeriousDlqin2yrs', value=1)"
   ]
  },
  {
   "cell_type": "markdown",
   "metadata": {},
   "source": [
    "### Add synthetized data to the original dataset"
   ]
  },
  {
   "cell_type": "code",
   "execution_count": 53,
   "metadata": {},
   "outputs": [
    {
     "data": {
      "text/plain": [
       "SeriousDlqin2yrs\n",
       "0    111912\n",
       "1    111912\n",
       "Name: SeriousDlqin2yrs, dtype: int64"
      ]
     },
     "execution_count": 53,
     "metadata": {},
     "output_type": "execute_result"
    }
   ],
   "source": [
    "new_data = pd.concat([creditdata, synthetic_data], ignore_index=True)\n",
    "new_data['SeriousDlqin2yrs'].groupby(new_data['SeriousDlqin2yrs']).count()"
   ]
  },
  {
   "cell_type": "markdown",
   "metadata": {},
   "source": [
    "### Train NN with new data"
   ]
  },
  {
   "cell_type": "code",
   "execution_count": 54,
   "metadata": {},
   "outputs": [],
   "source": [
    "X_new = new_data[feature_cols]\n",
    "y_new = new_data.SeriousDlqin2yrs"
   ]
  },
  {
   "cell_type": "code",
   "execution_count": 55,
   "metadata": {},
   "outputs": [],
   "source": [
    "X_train3, X_test3, y_train3, y_test3 = train_test_split(X_new, y_new, test_size = 0.4, random_state = 0)"
   ]
  },
  {
   "cell_type": "code",
   "execution_count": 56,
   "metadata": {},
   "outputs": [],
   "source": [
    "model = Sequential()\n",
    "\n",
    "model.add(Dense(10, kernel_regularizer=l2(0.01), activation='relu', input_dim = 10))\n",
    "model.add(Dense(16, kernel_regularizer=l2(0.01), activation='relu'))\n",
    "model.add(Dense(8, kernel_regularizer=l2(0.01), activation='relu'))\n",
    "model.add(Dense(1, activation='sigmoid'))"
   ]
  },
  {
   "cell_type": "code",
   "execution_count": 57,
   "metadata": {},
   "outputs": [],
   "source": [
    "model.compile(optimizer=Adam(lr = 0.0001),\n",
    "              loss='binary_crossentropy',\n",
    "              metrics=['accuracy'])"
   ]
  },
  {
   "cell_type": "code",
   "execution_count": 58,
   "metadata": {},
   "outputs": [
    {
     "name": "stdout",
     "output_type": "stream",
     "text": [
      "Train on 134294 samples, validate on 48108 samples\n",
      "Epoch 1/4\n",
      "134294/134294 [==============================] - 29s 213us/step - loss: 0.6191 - acc: 0.8849 - val_loss: 0.3223 - val_acc: 0.9314\n",
      "Epoch 2/4\n",
      "134294/134294 [==============================] - 29s 217us/step - loss: 0.3504 - acc: 0.9637 - val_loss: 0.2748 - val_acc: 0.9326\n",
      "Epoch 3/4\n",
      "134294/134294 [==============================] - 29s 219us/step - loss: 0.2687 - acc: 0.9639 - val_loss: 0.2640 - val_acc: 0.9327\n",
      "Epoch 4/4\n",
      "134294/134294 [==============================] - 30s 222us/step - loss: 0.2266 - acc: 0.9640 - val_loss: 0.2609 - val_acc: 0.9322\n"
     ]
    },
    {
     "data": {
      "text/plain": [
       "<keras.callbacks.History at 0x224e2721898>"
      ]
     },
     "execution_count": 58,
     "metadata": {},
     "output_type": "execute_result"
    }
   ],
   "source": [
    "model.fit(x = X_train3, y = y_train3,\n",
    "          validation_data=[X_test, y_test],\n",
    "          epochs = 4,\n",
    "          batch_size= 20)"
   ]
  },
  {
   "cell_type": "code",
   "execution_count": 60,
   "metadata": {},
   "outputs": [
    {
     "name": "stdout",
     "output_type": "stream",
     "text": [
      "AUC:  0.8007064836809772\n"
     ]
    }
   ],
   "source": [
    "nn_pred = model.predict(X_test)\n",
    "print('AUC: ', metrics.roc_auc_score(y_test, nn_pred))"
   ]
  },
  {
   "cell_type": "code",
   "execution_count": 61,
   "metadata": {},
   "outputs": [
    {
     "data": {
      "image/png": "[encoded data removed]",
      "text/plain": [
       "<matplotlib.figure.Figure at 0x1d686729f28>"
      ]
     },
     "metadata": {},
     "output_type": "display_data"
    }
   ],
   "source": [
    "actual = y_test\n",
    "predictions = model.predict(X_test)\n",
    "false_positive_rate, true_positive_rate, thresholds = roc_curve(actual, predictions)\n",
    "roc_auc = auc(false_positive_rate, true_positive_rate)\n",
    "plt.title('Receiver Operating Characteristic')\n",
    "plt.plot(false_positive_rate, true_positive_rate, 'b',\n",
    "label='AUC = %0.2f'% roc_auc)\n",
    "plt.legend(loc='lower right')\n",
    "plt.plot([0,1],[0,1],'r--')\n",
    "plt.xlim([-0.1,1.2])\n",
    "plt.ylim([-0.1,1.2])\n",
    "plt.ylabel('True Positive Rate')\n",
    "plt.xlabel('False Positive Rate')\n",
    "plt.show()"
   ]
  }
 ],
 "metadata": {
  "kernelspec": {
   "display_name": "Python 3",
   "language": "python",
   "name": "python3"
  },
  "language_info": {
   "codemirror_mode": {
    "name": "ipython",
    "version": 3
   },
   "file_extension": ".py",
   "mimetype": "text/x-python",
   "name": "python",
   "nbconvert_exporter": "python",
   "pygments_lexer": "ipython3",
   "version": "3.7.0"
  }
 },
 "nbformat": 4,
 "nbformat_minor": 2
}
